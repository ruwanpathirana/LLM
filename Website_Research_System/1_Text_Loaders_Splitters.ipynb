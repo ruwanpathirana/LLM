{
  "cells": [
    {
      "cell_type": "markdown",
      "id": "ae222ed8",
      "metadata": {
        "id": "ae222ed8"
      },
      "source": [
        "## Document Loaders In LangChain"
      ]
    },
    {
      "cell_type": "markdown",
      "id": "e65dada0",
      "metadata": {
        "id": "e65dada0"
      },
      "source": [
        "#### TextLoader"
      ]
    },
    {
      "cell_type": "code",
      "source": [
        "#!pip install langchain\n",
        "#!pip install langchain-community"
      ],
      "metadata": {
        "id": "02clv4sydWKb"
      },
      "id": "02clv4sydWKb",
      "execution_count": null,
      "outputs": []
    },
    {
      "cell_type": "code",
      "execution_count": 6,
      "id": "470ed0a2",
      "metadata": {
        "scrolled": false,
        "colab": {
          "base_uri": "https://localhost:8080/"
        },
        "id": "470ed0a2",
        "outputId": "8980e776-6d3b-46c2-958b-fe63c0a84597"
      },
      "outputs": [
        {
          "output_type": "execute_result",
          "data": {
            "text/plain": [
              "[Document(metadata={'source': 'python_for_finance.txt'}, page_content='Python has solidified its place as a crucial tool in the financial industry due to its versatility and the powerful libraries available for data analysis and visualization. In 2024, the selection of Python libraries for financial analysis is more impressive than ever, offering advanced capabilities for everything from data manipulation to sophisticated financial modeling. Here’s a look at the top 10 Python libraries that can significantly enhance your financial analysis workflows.\\n\\n1. Pandas\\nPandas is an essential library for any financial analyst. It offers powerful data structures like DataFrames, which make it easy to manipulate and analyze large datasets. Whether you are cleaning data, merging datasets, or performing time-series analysis, Pandas provides intuitive functions that streamline these processes. For instance, financial analysts can use Pandas to handle historical stock price data, perform operations like moving averages, and aggregate data to derive insights.\\n\\n2. NumPy\\nNumPy is the foundation for numerical computing in Python. It provides support for large, multi-dimensional arrays and matrices, which are fundamental for performing high-level mathematical operations. Financial analysts often use NumPy for tasks like creating complex financial models, performing linear algebra operations, and conducting statistical analyses. Its ability to handle large volumes of data efficiently makes it indispensable for high-frequency trading and other data-intensive financial applications.\\n\\n3. SciPy\\nSciPy builds on the capabilities of NumPy and adds additional tools for optimization, integration, and statistical functions. In financial analysis, SciPy is useful for tasks such as optimizing investment portfolios, calculating various financial metrics, and solving differential equations. For example, you might use SciPy to optimize the Sharpe ratio of a portfolio or to implement advanced financial algorithms that require numerical integration.\\n\\n4. Matplotlib\\nMatplotlib is the go-to library for creating static, animated, and interactive visualizations in Python. Visual representation of data is crucial in finance, as it helps analysts and stakeholders understand trends, patterns, and anomalies. With Matplotlib, you can create a wide range of plots, such as line charts, bar charts, histograms, and scatter plots, to visualize financial data like stock prices, trading volumes, and economic indicators.\\n\\n5. Plotly\\nPlotly takes data visualization to the next level with its interactive plotting capabilities. This library is particularly valuable for creating dashboards and detailed visualizations that users can interact with. Financial analysts can use Plotly to build comprehensive dashboards that display real-time market data, historical trends, and predictive analytics, making data exploration and decision-making more interactive and insightful.\\n\\n6. Statsmodels\\nStatsmodels provides a wealth of functions for statistical modeling and hypothesis testing. It’s particularly useful for performing econometric analyses and time-series forecasting, which are common tasks in financial analysis. Analysts can leverage Statsmodels to build and evaluate regression models, conduct hypothesis tests, and perform time-series analyses to forecast future market movements or assess the impact of economic policies.\\n\\n7. TA-Lib\\nTA-Lib is a specialized library for technical analysis of financial markets. It includes over 150 technical indicators, such as moving averages, RSI, MACD, and Bollinger Bands, which are essential tools for traders and financial analysts. TA-Lib helps in identifying market trends, generating trading signals, and making informed trading decisions based on historical price data.\\n\\n8. Pyfolio\\nPyfolio is an excellent library for analyzing the performance and risk of financial portfolios. It provides functions to create detailed tear sheets, evaluate return streams, and calculate risk metrics like beta, alpha, and Sharpe ratio. Pyfolio helps portfolio managers and analysts to assess the performance of their investment strategies and optimize their portfolios for better returns.\\n\\n9. Zipline\\nZipline is a robust backtesting library for trading algorithms. It allows financial analysts and quantitative traders to develop, test, and optimize their trading strategies using historical data. With Zipline, you can simulate trades, calculate performance metrics, and refine strategies to enhance profitability. It’s a crucial tool for developing systematic trading strategies and understanding their historical performance.\\n\\n10. QuantLib\\nQuantLib is a comprehensive library for quantitative finance. It offers a vast array of tools for pricing derivatives, managing portfolios, and conducting risk analysis. QuantLib supports the modeling of complex financial instruments, such as options, bonds, and interest rate derivatives, making it an essential resource for financial engineers and quantitative analysts.\\n\\nConclusion\\n\\nThe Python ecosystem continues to expand, providing financial analysts with increasingly powerful tools for tackling complex financial challenges. By incorporating these top 10 libraries into your workflow, you can enhance your analytical capabilities, make more informed investment decisions, and stay ahead in the rapidly evolving field of financial analysis.')]"
            ]
          },
          "metadata": {},
          "execution_count": 6
        }
      ],
      "source": [
        "from langchain.document_loaders import TextLoader\n",
        "\n",
        "loader = TextLoader(\"python_for_finance.txt\")\n",
        "loader.load()"
      ]
    },
    {
      "cell_type": "code",
      "source": [
        "data = loader.load()\n",
        "data[0].metadata"
      ],
      "metadata": {
        "colab": {
          "base_uri": "https://localhost:8080/"
        },
        "id": "dE9kA21leRFl",
        "outputId": "50ad4a9e-5e6a-4371-845a-acdb4e5cc573"
      },
      "id": "dE9kA21leRFl",
      "execution_count": 9,
      "outputs": [
        {
          "output_type": "execute_result",
          "data": {
            "text/plain": [
              "{'source': 'python_for_finance.txt'}"
            ]
          },
          "metadata": {},
          "execution_count": 9
        }
      ]
    },
    {
      "cell_type": "code",
      "execution_count": 10,
      "id": "ca5844b4",
      "metadata": {
        "colab": {
          "base_uri": "https://localhost:8080/",
          "height": 204
        },
        "id": "ca5844b4",
        "outputId": "e8faba89-7a4c-4055-a702-c0461420368e"
      },
      "outputs": [
        {
          "output_type": "execute_result",
          "data": {
            "text/plain": [
              "langchain_community.document_loaders.text.TextLoader"
            ],
            "text/html": [
              "<div style=\"max-width:800px; border: 1px solid var(--colab-border-color);\"><style>\n",
              "      pre.function-repr-contents {\n",
              "        overflow-x: auto;\n",
              "        padding: 8px 12px;\n",
              "        max-height: 500px;\n",
              "      }\n",
              "\n",
              "      pre.function-repr-contents.function-repr-contents-collapsed {\n",
              "        cursor: pointer;\n",
              "        max-height: 100px;\n",
              "      }\n",
              "    </style>\n",
              "    <pre style=\"white-space: initial; background:\n",
              "         var(--colab-secondary-surface-color); padding: 8px 12px;\n",
              "         border-bottom: 1px solid var(--colab-border-color);\"><b>langchain_community.document_loaders.text.TextLoader</b><br/>def __init__(file_path: Union[str, Path], encoding: Optional[str]=None, autodetect_encoding: bool=False)</pre><pre class=\"function-repr-contents function-repr-contents-collapsed\" style=\"\"><a class=\"filepath\" style=\"display:none\" href=\"#\">/usr/local/lib/python3.10/dist-packages/langchain_community/document_loaders/text.py</a>Load text file.\n",
              "\n",
              "\n",
              "Args:\n",
              "    file_path: Path to the file to load.\n",
              "\n",
              "    encoding: File encoding to use. If `None`, the file will be loaded\n",
              "    with the default system encoding.\n",
              "\n",
              "    autodetect_encoding: Whether to try to autodetect the file encoding\n",
              "        if the specified encoding fails.</pre>\n",
              "      <script>\n",
              "      if (google.colab.kernel.accessAllowed && google.colab.files && google.colab.files.view) {\n",
              "        for (const element of document.querySelectorAll('.filepath')) {\n",
              "          element.style.display = 'block'\n",
              "          element.onclick = (event) => {\n",
              "            event.preventDefault();\n",
              "            event.stopPropagation();\n",
              "            google.colab.files.view(element.textContent, 13);\n",
              "          };\n",
              "        }\n",
              "      }\n",
              "      for (const element of document.querySelectorAll('.function-repr-contents')) {\n",
              "        element.onclick = (event) => {\n",
              "          event.preventDefault();\n",
              "          event.stopPropagation();\n",
              "          element.classList.toggle('function-repr-contents-collapsed');\n",
              "        };\n",
              "      }\n",
              "      </script>\n",
              "      </div>"
            ]
          },
          "metadata": {},
          "execution_count": 10
        }
      ],
      "source": [
        "type(loader)"
      ]
    },
    {
      "cell_type": "code",
      "execution_count": 11,
      "id": "bb95e130",
      "metadata": {
        "colab": {
          "base_uri": "https://localhost:8080/",
          "height": 35
        },
        "id": "bb95e130",
        "outputId": "8f1dd9ea-482b-493f-aa90-b87b66a94600"
      },
      "outputs": [
        {
          "output_type": "execute_result",
          "data": {
            "text/plain": [
              "'python_for_finance.txt'"
            ],
            "application/vnd.google.colaboratory.intrinsic+json": {
              "type": "string"
            }
          },
          "metadata": {},
          "execution_count": 11
        }
      ],
      "source": [
        "loader.file_path"
      ]
    },
    {
      "cell_type": "markdown",
      "id": "4da25ff7",
      "metadata": {
        "id": "4da25ff7"
      },
      "source": [
        "#### CSVLoader"
      ]
    },
    {
      "cell_type": "code",
      "execution_count": 12,
      "id": "ad67ba6e",
      "metadata": {
        "id": "ad67ba6e"
      },
      "outputs": [],
      "source": [
        "from langchain.document_loaders.csv_loader import CSVLoader"
      ]
    },
    {
      "cell_type": "code",
      "execution_count": 15,
      "id": "220b3fcb",
      "metadata": {
        "colab": {
          "base_uri": "https://localhost:8080/"
        },
        "id": "220b3fcb",
        "outputId": "f07da604-99d3-4c80-d08a-b30f0465931b"
      },
      "outputs": [
        {
          "output_type": "execute_result",
          "data": {
            "text/plain": [
              "[Document(metadata={'source': 'movies.csv', 'row': 0}, page_content='movie_id: 101\\ntitle: K.G.F: Chapter 2\\nindustry: Bollywood\\nrelease_year: 2022\\nimdb_rating: 8.4\\nstudio: Hombale Films\\nlanguage_id: 3\\nbudget: 1\\nrevenue: 12.5\\nunit: Billions\\ncurrency: INR'),\n",
              " Document(metadata={'source': 'movies.csv', 'row': 1}, page_content='movie_id: 102\\ntitle: Doctor Strange in the Multiverse of Madness\\nindustry: Hollywood\\nrelease_year: 2022\\nimdb_rating: 7\\nstudio: Marvel Studios\\nlanguage_id: 5\\nbudget: 200\\nrevenue: 954.8\\nunit: Millions\\ncurrency: USD'),\n",
              " Document(metadata={'source': 'movies.csv', 'row': 2}, page_content='movie_id: 103\\ntitle: Thor: The Dark World\\nindustry: Hollywood\\nrelease_year: 2013\\nimdb_rating: 6.8\\nstudio: Marvel Studios\\nlanguage_id: 5\\nbudget: 165\\nrevenue: 644.8\\nunit: Millions\\ncurrency: USD'),\n",
              " Document(metadata={'source': 'movies.csv', 'row': 3}, page_content='movie_id: 104\\ntitle: Thor: Ragnarok\\nindustry: Hollywood\\nrelease_year: 2017\\nimdb_rating: 7.9\\nstudio: Marvel Studios\\nlanguage_id: 5\\nbudget: 180\\nrevenue: 854\\nunit: Millions\\ncurrency: USD'),\n",
              " Document(metadata={'source': 'movies.csv', 'row': 4}, page_content='movie_id: 105\\ntitle: Thor: Love and Thunder\\nindustry: Hollywood\\nrelease_year: 2022\\nimdb_rating: 6.8\\nstudio: Marvel Studios\\nlanguage_id: 5\\nbudget: 250\\nrevenue: 670\\nunit: Millions\\ncurrency: USD'),\n",
              " Document(metadata={'source': 'movies.csv', 'row': 5}, page_content='movie_id: 106\\ntitle: Sholay\\nindustry: Bollywood\\nrelease_year: 1975\\nimdb_rating: 8.1\\nstudio: United Producers\\nlanguage_id: 1\\nbudget: Not Available\\nrevenue: Not Available\\nunit: Not Available\\ncurrency: Not Available'),\n",
              " Document(metadata={'source': 'movies.csv', 'row': 6}, page_content='movie_id: 107\\ntitle: Dilwale Dulhania Le Jayenge\\nindustry: Bollywood\\nrelease_year: 1995\\nimdb_rating: 8\\nstudio: Yash Raj Films\\nlanguage_id: 1\\nbudget: 400\\nrevenue: 2000\\nunit: Millions\\ncurrency: INR'),\n",
              " Document(metadata={'source': 'movies.csv', 'row': 7}, page_content='movie_id: 108\\ntitle: 3 Idiots\\nindustry: Bollywood\\nrelease_year: 2009\\nimdb_rating: 8.4\\nstudio: Vinod Chopra Films\\nlanguage_id: 1\\nbudget: 550\\nrevenue: 4000\\nunit: Millions\\ncurrency: INR'),\n",
              " Document(metadata={'source': 'movies.csv', 'row': 8}, page_content='movie_id: 109\\ntitle: Kabhi Khushi Kabhie Gham\\nindustry: Bollywood\\nrelease_year: 2001\\nimdb_rating: 7.4\\nstudio: Dharma Productions\\nlanguage_id: 1\\nbudget: 390\\nrevenue: 1360\\nunit: Millions\\ncurrency: INR')]"
            ]
          },
          "metadata": {},
          "execution_count": 15
        }
      ],
      "source": [
        "loader = CSVLoader(file_path=\"movies.csv\")\n",
        "data = loader.load()\n",
        "data"
      ]
    },
    {
      "cell_type": "code",
      "source": [
        "len(data)"
      ],
      "metadata": {
        "colab": {
          "base_uri": "https://localhost:8080/"
        },
        "id": "eB1h09LKfvgL",
        "outputId": "9cdf9ad2-d8c3-449b-aafa-e288bdfc7ce9"
      },
      "id": "eB1h09LKfvgL",
      "execution_count": 21,
      "outputs": [
        {
          "output_type": "execute_result",
          "data": {
            "text/plain": [
              "9"
            ]
          },
          "metadata": {},
          "execution_count": 21
        }
      ]
    },
    {
      "cell_type": "code",
      "execution_count": 16,
      "id": "4e1b3b9a",
      "metadata": {
        "scrolled": true,
        "colab": {
          "base_uri": "https://localhost:8080/"
        },
        "id": "4e1b3b9a",
        "outputId": "9dc8b13e-2e7b-4155-8bb0-1dd165495444"
      },
      "outputs": [
        {
          "output_type": "execute_result",
          "data": {
            "text/plain": [
              "Document(metadata={'source': 'movies.csv', 'row': 0}, page_content='movie_id: 101\\ntitle: K.G.F: Chapter 2\\nindustry: Bollywood\\nrelease_year: 2022\\nimdb_rating: 8.4\\nstudio: Hombale Films\\nlanguage_id: 3\\nbudget: 1\\nrevenue: 12.5\\nunit: Billions\\ncurrency: INR')"
            ]
          },
          "metadata": {},
          "execution_count": 16
        }
      ],
      "source": [
        "data[0]"
      ]
    },
    {
      "cell_type": "code",
      "execution_count": 17,
      "id": "e356cd2b",
      "metadata": {
        "colab": {
          "base_uri": "https://localhost:8080/"
        },
        "id": "e356cd2b",
        "outputId": "0a2b12e3-c6e7-4a72-fbb1-bfacdd392989"
      },
      "outputs": [
        {
          "output_type": "execute_result",
          "data": {
            "text/plain": [
              "[Document(metadata={'source': 'K.G.F: Chapter 2', 'row': 0}, page_content='movie_id: 101\\ntitle: K.G.F: Chapter 2\\nindustry: Bollywood\\nrelease_year: 2022\\nimdb_rating: 8.4\\nstudio: Hombale Films\\nlanguage_id: 3\\nbudget: 1\\nrevenue: 12.5\\nunit: Billions\\ncurrency: INR'),\n",
              " Document(metadata={'source': 'Doctor Strange in the Multiverse of Madness', 'row': 1}, page_content='movie_id: 102\\ntitle: Doctor Strange in the Multiverse of Madness\\nindustry: Hollywood\\nrelease_year: 2022\\nimdb_rating: 7\\nstudio: Marvel Studios\\nlanguage_id: 5\\nbudget: 200\\nrevenue: 954.8\\nunit: Millions\\ncurrency: USD'),\n",
              " Document(metadata={'source': 'Thor: The Dark World', 'row': 2}, page_content='movie_id: 103\\ntitle: Thor: The Dark World\\nindustry: Hollywood\\nrelease_year: 2013\\nimdb_rating: 6.8\\nstudio: Marvel Studios\\nlanguage_id: 5\\nbudget: 165\\nrevenue: 644.8\\nunit: Millions\\ncurrency: USD'),\n",
              " Document(metadata={'source': 'Thor: Ragnarok', 'row': 3}, page_content='movie_id: 104\\ntitle: Thor: Ragnarok\\nindustry: Hollywood\\nrelease_year: 2017\\nimdb_rating: 7.9\\nstudio: Marvel Studios\\nlanguage_id: 5\\nbudget: 180\\nrevenue: 854\\nunit: Millions\\ncurrency: USD'),\n",
              " Document(metadata={'source': 'Thor: Love and Thunder', 'row': 4}, page_content='movie_id: 105\\ntitle: Thor: Love and Thunder\\nindustry: Hollywood\\nrelease_year: 2022\\nimdb_rating: 6.8\\nstudio: Marvel Studios\\nlanguage_id: 5\\nbudget: 250\\nrevenue: 670\\nunit: Millions\\ncurrency: USD'),\n",
              " Document(metadata={'source': 'Sholay', 'row': 5}, page_content='movie_id: 106\\ntitle: Sholay\\nindustry: Bollywood\\nrelease_year: 1975\\nimdb_rating: 8.1\\nstudio: United Producers\\nlanguage_id: 1\\nbudget: Not Available\\nrevenue: Not Available\\nunit: Not Available\\ncurrency: Not Available'),\n",
              " Document(metadata={'source': 'Dilwale Dulhania Le Jayenge', 'row': 6}, page_content='movie_id: 107\\ntitle: Dilwale Dulhania Le Jayenge\\nindustry: Bollywood\\nrelease_year: 1995\\nimdb_rating: 8\\nstudio: Yash Raj Films\\nlanguage_id: 1\\nbudget: 400\\nrevenue: 2000\\nunit: Millions\\ncurrency: INR'),\n",
              " Document(metadata={'source': '3 Idiots', 'row': 7}, page_content='movie_id: 108\\ntitle: 3 Idiots\\nindustry: Bollywood\\nrelease_year: 2009\\nimdb_rating: 8.4\\nstudio: Vinod Chopra Films\\nlanguage_id: 1\\nbudget: 550\\nrevenue: 4000\\nunit: Millions\\ncurrency: INR'),\n",
              " Document(metadata={'source': 'Kabhi Khushi Kabhie Gham', 'row': 8}, page_content='movie_id: 109\\ntitle: Kabhi Khushi Kabhie Gham\\nindustry: Bollywood\\nrelease_year: 2001\\nimdb_rating: 7.4\\nstudio: Dharma Productions\\nlanguage_id: 1\\nbudget: 390\\nrevenue: 1360\\nunit: Millions\\ncurrency: INR')]"
            ]
          },
          "metadata": {},
          "execution_count": 17
        }
      ],
      "source": [
        "loader = CSVLoader(file_path=\"movies.csv\", source_column=\"title\")\n",
        "data = loader.load()\n",
        "data"
      ]
    },
    {
      "cell_type": "code",
      "execution_count": 18,
      "id": "42d13fd6",
      "metadata": {
        "colab": {
          "base_uri": "https://localhost:8080/",
          "height": 70
        },
        "id": "42d13fd6",
        "outputId": "0823f7e8-e281-4d04-d6bc-e57803a4a155"
      },
      "outputs": [
        {
          "output_type": "execute_result",
          "data": {
            "text/plain": [
              "'movie_id: 101\\ntitle: K.G.F: Chapter 2\\nindustry: Bollywood\\nrelease_year: 2022\\nimdb_rating: 8.4\\nstudio: Hombale Films\\nlanguage_id: 3\\nbudget: 1\\nrevenue: 12.5\\nunit: Billions\\ncurrency: INR'"
            ],
            "application/vnd.google.colaboratory.intrinsic+json": {
              "type": "string"
            }
          },
          "metadata": {},
          "execution_count": 18
        }
      ],
      "source": [
        "data[0].page_content"
      ]
    },
    {
      "cell_type": "code",
      "execution_count": 20,
      "id": "0d8913df",
      "metadata": {
        "colab": {
          "base_uri": "https://localhost:8080/"
        },
        "id": "0d8913df",
        "outputId": "be0201a7-abba-4df9-f399-d48f03069a39"
      },
      "outputs": [
        {
          "output_type": "execute_result",
          "data": {
            "text/plain": [
              "{'source': 'Doctor Strange in the Multiverse of Madness', 'row': 1}"
            ]
          },
          "metadata": {},
          "execution_count": 20
        }
      ],
      "source": [
        "data[1].metadata"
      ]
    },
    {
      "cell_type": "markdown",
      "id": "f0163924",
      "metadata": {
        "id": "f0163924"
      },
      "source": [
        "#### UnstructuredURLLoader"
      ]
    },
    {
      "cell_type": "markdown",
      "id": "48644959",
      "metadata": {
        "id": "48644959"
      },
      "source": [
        "UnstructuredURLLoader of Langchain internally uses unstructured python library to load the content from url's\n",
        "\n",
        "https://docs.unstructured.io/\n",
        "\n",
        "https://pypi.org/project/unstructured/#description"
      ]
    },
    {
      "cell_type": "code",
      "execution_count": 24,
      "id": "9bfca934",
      "metadata": {
        "id": "9bfca934"
      },
      "outputs": [],
      "source": [
        "from langchain.document_loaders import UnstructuredURLLoader"
      ]
    },
    {
      "cell_type": "code",
      "execution_count": 26,
      "id": "93ce75de",
      "metadata": {
        "id": "93ce75de"
      },
      "outputs": [],
      "source": [
        "loader = UnstructuredURLLoader(\n",
        "    urls = [\n",
        "        \"https://www.dailymirror.lk/business-news/Exporters-oppose-Simplified-Value-Added-Tax-system-removal/273-287661\",\n",
        "        \"https://www.dailymirror.lk/business-news/Global-tech-outage-disrupts-industries-highlights-online-risks/273-287659\"\n",
        "    ]\n",
        ")"
      ]
    },
    {
      "cell_type": "code",
      "execution_count": 27,
      "id": "be914bfa",
      "metadata": {
        "scrolled": false,
        "colab": {
          "base_uri": "https://localhost:8080/"
        },
        "id": "be914bfa",
        "outputId": "c0248032-bf99-4b90-c5d6-380a1d3b0f21"
      },
      "outputs": [
        {
          "output_type": "execute_result",
          "data": {
            "text/plain": [
              "2"
            ]
          },
          "metadata": {},
          "execution_count": 27
        }
      ],
      "source": [
        "data = loader.load()\n",
        "len(data)"
      ]
    },
    {
      "cell_type": "code",
      "execution_count": 28,
      "id": "52838711",
      "metadata": {
        "colab": {
          "base_uri": "https://localhost:8080/",
          "height": 53
        },
        "id": "52838711",
        "outputId": "824d0aba-733d-41c5-cba9-e460069945d4"
      },
      "outputs": [
        {
          "output_type": "execute_result",
          "data": {
            "text/plain": [
              "\"Home\\n\\nE-Paper\\n\\nToday's Paper\\n\\nFeatures\\n\\nMirror Business\\n\\nMirror Sports\\n\\nExpose\\n\\nVideo\\n\\nWorld News\\n\\nL\""
            ],
            "application/vnd.google.colaboratory.intrinsic+json": {
              "type": "string"
            }
          },
          "metadata": {},
          "execution_count": 28
        }
      ],
      "source": [
        "data[0].page_content[0:100]"
      ]
    },
    {
      "cell_type": "code",
      "execution_count": 29,
      "id": "8b587350",
      "metadata": {
        "colab": {
          "base_uri": "https://localhost:8080/"
        },
        "id": "8b587350",
        "outputId": "21d063f5-b63f-42bf-924d-1fee0a0e3911"
      },
      "outputs": [
        {
          "output_type": "execute_result",
          "data": {
            "text/plain": [
              "{'source': 'https://www.dailymirror.lk/business-news/Exporters-oppose-Simplified-Value-Added-Tax-system-removal/273-287661'}"
            ]
          },
          "metadata": {},
          "execution_count": 29
        }
      ],
      "source": []
    },
    {
      "cell_type": "markdown",
      "id": "df45adf4",
      "metadata": {
        "id": "df45adf4"
      },
      "source": [
        "## Text Splitters"
      ]
    },
    {
      "cell_type": "markdown",
      "id": "7ce2e736",
      "metadata": {
        "id": "7ce2e736"
      },
      "source": [
        "Why do we need text splitters in first place?\n",
        "\n",
        "LLM's have token limits. Hence we need to split the text which can be large into small chunks so that each chunk size is under the token limit. There are various text splitter classes in langchain that allows us to do this."
      ]
    },
    {
      "cell_type": "code",
      "execution_count": 30,
      "id": "90431c5b",
      "metadata": {
        "id": "90431c5b"
      },
      "outputs": [],
      "source": [
        "# Taking some random text from wikipedia\n",
        "\n",
        "text = \"\"\"Interstellar is a 2014 epic science fiction film co-written, directed, and produced by Christopher Nolan.\n",
        "It stars Matthew McConaughey, Anne Hathaway, Jessica Chastain, Bill Irwin, Ellen Burstyn, Matt Damon, and Michael Caine.\n",
        "Set in a dystopian future where humanity is embroiled in a catastrophic blight and famine, the film follows a group of astronauts who travel through a wormhole near Saturn in search of a new home for humankind.\n",
        "\n",
        "Brothers Christopher and Jonathan Nolan wrote the screenplay, which had its origins in a script Jonathan developed in 2007 and was originally set to be directed by Steven Spielberg.\n",
        "Kip Thorne, a Caltech theoretical physicist and 2017 Nobel laureate in Physics,[4] was an executive producer, acted as a scientific consultant, and wrote a tie-in book, The Science of Interstellar.\n",
        "Cinematographer Hoyte van Hoytema shot it on 35 mm movie film in the Panavision anamorphic format and IMAX 70 mm. Principal photography began in late 2013 and took place in Alberta, Iceland, and Los Angeles.\n",
        "Interstellar uses extensive practical and miniature effects, and the company Double Negative created additional digital effects.\n",
        "\n",
        "Interstellar premiered in Los Angeles on October 26, 2014. In the United States, it was first released on film stock, expanding to venues using digital projectors. The film received generally positive reviews from critics and grossed over $677 million worldwide ($715 million after subsequent re-releases), making it the tenth-highest-grossing film of 2014.\n",
        "It has been praised by astronomers for its scientific accuracy and portrayal of theoretical astrophysics.[5][6][7] Interstellar was nominated for five awards at the 87th Academy Awards, winning Best Visual Effects, and received numerous other accolades.\"\"\""
      ]
    },
    {
      "cell_type": "markdown",
      "id": "7af9a95b",
      "metadata": {
        "id": "7af9a95b"
      },
      "source": [
        "#### Manual approach of splitting the text into chunks"
      ]
    },
    {
      "cell_type": "code",
      "execution_count": 31,
      "id": "a51fc70e",
      "metadata": {
        "colab": {
          "base_uri": "https://localhost:8080/",
          "height": 53
        },
        "id": "a51fc70e",
        "outputId": "3dcac275-a11f-47b5-ccd5-9b5d685c980f"
      },
      "outputs": [
        {
          "output_type": "execute_result",
          "data": {
            "text/plain": [
              "'Interstellar is a 2014 epic science fiction film co-written, directed, and produced by Christopher N'"
            ],
            "application/vnd.google.colaboratory.intrinsic+json": {
              "type": "string"
            }
          },
          "metadata": {},
          "execution_count": 31
        }
      ],
      "source": [
        "# Say LLM token limit is 100, in that case we can do simple thing such as this\n",
        "\n",
        "text[0:100]"
      ]
    },
    {
      "cell_type": "code",
      "execution_count": 36,
      "id": "2adae99a",
      "metadata": {
        "colab": {
          "base_uri": "https://localhost:8080/"
        },
        "id": "2adae99a",
        "outputId": "936710a5-a6c9-4f1d-d6eb-c2743dfd42e2"
      },
      "outputs": [
        {
          "output_type": "execute_result",
          "data": {
            "text/plain": [
              "264"
            ]
          },
          "metadata": {},
          "execution_count": 36
        }
      ],
      "source": [
        "# Well but we want complete words and want to do this for entire text, may be we can use Python's split funciton\n",
        "\n",
        "words = text.split(\" \")\n",
        "len(words)"
      ]
    },
    {
      "cell_type": "code",
      "execution_count": 37,
      "id": "56ec5613",
      "metadata": {
        "id": "56ec5613"
      },
      "outputs": [],
      "source": [
        "\n",
        "s = \"\"\n",
        "for word in words:\n",
        "    s += word + \" \"\n",
        "    if len(s)>200:\n",
        "        chunks.append(s)\n",
        "        s = \"\"\n",
        "\n",
        "chunks.append(s)"
      ]
    },
    {
      "cell_type": "code",
      "execution_count": 39,
      "id": "95d902bd",
      "metadata": {
        "scrolled": true,
        "colab": {
          "base_uri": "https://localhost:8080/"
        },
        "id": "95d902bd",
        "outputId": "2397b30e-a59e-4fca-eca0-e70c42616388"
      },
      "outputs": [
        {
          "output_type": "execute_result",
          "data": {
            "text/plain": [
              "['Interstellar is a 2014 epic science fiction film co-written, directed, and produced by Christopher Nolan. \\nIt stars Matthew McConaughey, Anne Hathaway, Jessica Chastain, Bill Irwin, Ellen Burstyn, Matt ',\n",
              " 'Damon, and Michael Caine. \\nSet in a dystopian future where humanity is embroiled in a catastrophic blight and famine, the film follows a group of astronauts who travel through a wormhole near Saturn in ']"
            ]
          },
          "metadata": {},
          "execution_count": 39
        }
      ],
      "source": [
        "chunks[:2]"
      ]
    },
    {
      "cell_type": "markdown",
      "id": "ff06ebc4",
      "metadata": {
        "id": "ff06ebc4"
      },
      "source": [
        "**Splitting data into chunks can be done in native python but it is a tidious process. Also if necessary, you may need to experiment with various delimiters in an iterative manner to ensure that each chunk does not exceed the token length limit of the respective LLM.**\n",
        "\n",
        "**Langchain provides a better way through text splitter classes.**"
      ]
    },
    {
      "cell_type": "markdown",
      "id": "f64b2909",
      "metadata": {
        "id": "f64b2909"
      },
      "source": [
        "#### Using Text Splitter Classes from Langchain\n",
        "\n",
        "#### CharacterTextSplitter"
      ]
    },
    {
      "cell_type": "code",
      "execution_count": 41,
      "id": "9505bedd",
      "metadata": {
        "id": "9505bedd"
      },
      "outputs": [],
      "source": [
        "from langchain.text_splitter import CharacterTextSplitter\n",
        "\n",
        "splitter = CharacterTextSplitter(\n",
        "    separator = \"\\n\",\n",
        "    chunk_size=200,\n",
        "    chunk_overlap=0\n",
        ")"
      ]
    },
    {
      "cell_type": "code",
      "execution_count": 42,
      "id": "4d86bc63",
      "metadata": {
        "colab": {
          "base_uri": "https://localhost:8080/"
        },
        "id": "4d86bc63",
        "outputId": "ba346e22-b25a-4a06-9603-83bd0312b9de"
      },
      "outputs": [
        {
          "output_type": "stream",
          "name": "stderr",
          "text": [
            "WARNING:langchain_text_splitters.base:Created a chunk of size 210, which is longer than the specified 200\n",
            "WARNING:langchain_text_splitters.base:Created a chunk of size 208, which is longer than the specified 200\n",
            "WARNING:langchain_text_splitters.base:Created a chunk of size 358, which is longer than the specified 200\n"
          ]
        },
        {
          "output_type": "execute_result",
          "data": {
            "text/plain": [
              "9"
            ]
          },
          "metadata": {},
          "execution_count": 42
        }
      ],
      "source": [
        "chunks = splitter.split_text(text)\n",
        "len(chunks)"
      ]
    },
    {
      "cell_type": "code",
      "execution_count": 43,
      "id": "e027b9de",
      "metadata": {
        "colab": {
          "base_uri": "https://localhost:8080/"
        },
        "id": "e027b9de",
        "outputId": "4a1d5fa1-2902-403f-9c6b-fc7d6f974712"
      },
      "outputs": [
        {
          "output_type": "stream",
          "name": "stdout",
          "text": [
            "105\n",
            "120\n",
            "210\n",
            "181\n",
            "197\n",
            "207\n",
            "128\n",
            "357\n",
            "253\n"
          ]
        }
      ],
      "source": [
        "for chunk in chunks:\n",
        "    print(len(chunk))"
      ]
    },
    {
      "cell_type": "markdown",
      "id": "dcc73da3",
      "metadata": {
        "id": "dcc73da3"
      },
      "source": [
        "As you can see, all though we gave 200 as a chunk size since the split was based on \\n, it ended up creating chunks that are bigger than size 200."
      ]
    },
    {
      "cell_type": "markdown",
      "id": "f86f3a10",
      "metadata": {
        "id": "f86f3a10"
      },
      "source": [
        "Another class from Langchain can be used to recursively split the text based on a list of separators. This class is RecursiveTextSplitter. Let's see how it works"
      ]
    },
    {
      "cell_type": "markdown",
      "id": "00a61cf1",
      "metadata": {
        "id": "00a61cf1"
      },
      "source": [
        "#### RecursiveTextSplitter"
      ]
    },
    {
      "cell_type": "code",
      "execution_count": 44,
      "id": "dacf5e8b",
      "metadata": {
        "colab": {
          "base_uri": "https://localhost:8080/",
          "height": 248
        },
        "id": "dacf5e8b",
        "outputId": "1cc70d45-9afd-4639-9804-f87af8b30b3a"
      },
      "outputs": [
        {
          "output_type": "execute_result",
          "data": {
            "text/plain": [
              "'Interstellar is a 2014 epic science fiction film co-written, directed, and produced by Christopher Nolan. \\nIt stars Matthew McConaughey, Anne Hathaway, Jessica Chastain, Bill Irwin, Ellen Burstyn, Matt Damon, and Michael Caine. \\nSet in a dystopian future where humanity is embroiled in a catastrophic blight and famine, the film follows a group of astronauts who travel through a wormhole near Saturn in search of a new home for humankind.\\n\\nBrothers Christopher and Jonathan Nolan wrote the screenplay, which had its origins in a script Jonathan developed in 2007 and was originally set to be directed by Steven Spielberg. \\nKip Thorne, a Caltech theoretical physicist and 2017 Nobel laureate in Physics,[4] was an executive producer, acted as a scientific consultant, and wrote a tie-in book, The Science of Interstellar. \\nCinematographer Hoyte van Hoytema shot it on 35 mm movie film in the Panavision anamorphic format and IMAX 70 mm. Principal photography began in late 2013 and took place in Alberta, Iceland, and Los Angeles. \\nInterstellar uses extensive practical and miniature effects, and the company Double Negative created additional digital effects.\\n\\nInterstellar premiered in Los Angeles on October 26, 2014. In the United States, it was first released on film stock, expanding to venues using digital projectors. The film received generally positive reviews from critics and grossed over $677 million worldwide ($715 million after subsequent re-releases), making it the tenth-highest-grossing film of 2014. \\nIt has been praised by astronomers for its scientific accuracy and portrayal of theoretical astrophysics.[5][6][7] Interstellar was nominated for five awards at the 87th Academy Awards, winning Best Visual Effects, and received numerous other accolades.'"
            ],
            "application/vnd.google.colaboratory.intrinsic+json": {
              "type": "string"
            }
          },
          "metadata": {},
          "execution_count": 44
        }
      ],
      "source": [
        "text"
      ]
    },
    {
      "cell_type": "code",
      "execution_count": 45,
      "id": "848eae34",
      "metadata": {
        "id": "848eae34"
      },
      "outputs": [],
      "source": [
        "from langchain.text_splitter import RecursiveCharacterTextSplitter\n",
        "\n",
        "r_splitter = RecursiveCharacterTextSplitter(\n",
        "    separators = [\"\\n\\n\", \"\\n\", \" \"],  # List of separators based on requirement (defaults to [\"\\n\\n\", \"\\n\", \" \"])\n",
        "    chunk_size = 200,  # size of each chunk created\n",
        "    chunk_overlap  = 0,  # size of  overlap between chunks in order to maintain the context\n",
        "    length_function = len  # Function to calculate size, currently we are using \"len\" which denotes length of string however you can pass any token counter)\n",
        ")"
      ]
    },
    {
      "cell_type": "code",
      "execution_count": 46,
      "id": "1151c51d",
      "metadata": {
        "colab": {
          "base_uri": "https://localhost:8080/"
        },
        "id": "1151c51d",
        "outputId": "b9ca5211-9922-4e16-b25a-f4e047d54783"
      },
      "outputs": [
        {
          "output_type": "stream",
          "name": "stdout",
          "text": [
            "105\n",
            "120\n",
            "199\n",
            "10\n",
            "181\n",
            "197\n",
            "198\n",
            "8\n",
            "128\n",
            "191\n",
            "165\n",
            "198\n",
            "54\n"
          ]
        }
      ],
      "source": [
        "chunks = r_splitter.split_text(text)\n",
        "\n",
        "for chunk in chunks:\n",
        "    print(len(chunk))"
      ]
    },
    {
      "cell_type": "markdown",
      "id": "32135f4d",
      "metadata": {
        "id": "32135f4d"
      },
      "source": [
        "**Let's understand how exactly it formed these chunks**"
      ]
    },
    {
      "cell_type": "code",
      "execution_count": 47,
      "id": "57ef6974",
      "metadata": {
        "colab": {
          "base_uri": "https://localhost:8080/",
          "height": 124
        },
        "id": "57ef6974",
        "outputId": "31efd107-d37c-4a07-abe5-af0ed8f87077"
      },
      "outputs": [
        {
          "output_type": "execute_result",
          "data": {
            "text/plain": [
              "'Interstellar is a 2014 epic science fiction film co-written, directed, and produced by Christopher Nolan. \\nIt stars Matthew McConaughey, Anne Hathaway, Jessica Chastain, Bill Irwin, Ellen Burstyn, Matt Damon, and Michael Caine. \\nSet in a dystopian future where humanity is embroiled in a catastrophic blight and famine, the film follows a group of astronauts who travel through a wormhole near Saturn in search of a new home for humankind.'"
            ],
            "application/vnd.google.colaboratory.intrinsic+json": {
              "type": "string"
            }
          },
          "metadata": {},
          "execution_count": 47
        }
      ],
      "source": [
        "first_split = text.split(\"\\n\\n\")[0]\n",
        "first_split"
      ]
    },
    {
      "cell_type": "code",
      "execution_count": 48,
      "id": "2bc7719f",
      "metadata": {
        "colab": {
          "base_uri": "https://localhost:8080/"
        },
        "id": "2bc7719f",
        "outputId": "814e1fd3-af6f-4801-de4a-a56d3ad1c9fc"
      },
      "outputs": [
        {
          "output_type": "execute_result",
          "data": {
            "text/plain": [
              "439"
            ]
          },
          "metadata": {},
          "execution_count": 48
        }
      ],
      "source": [
        "len(first_split)"
      ]
    },
    {
      "cell_type": "markdown",
      "id": "e1018d24",
      "metadata": {
        "id": "e1018d24"
      },
      "source": [
        "Recursive text splitter uses a list of separators, i.e.  separators = [\"\\n\\n\", \"\\n\", \".\"]\n",
        "\n",
        "So now it will first split using \\n\\n and then if the resulting chunk size is greater than the chunk_size parameter which is 200\n",
        "in our case, then it will use the next separator which is \\n"
      ]
    },
    {
      "cell_type": "code",
      "execution_count": 49,
      "id": "739cef71",
      "metadata": {
        "colab": {
          "base_uri": "https://localhost:8080/"
        },
        "id": "739cef71",
        "outputId": "b043456e-0ba1-411d-99c4-71dc300a1033"
      },
      "outputs": [
        {
          "output_type": "execute_result",
          "data": {
            "text/plain": [
              "['Interstellar is a 2014 epic science fiction film co-written, directed, and produced by Christopher Nolan. ',\n",
              " 'It stars Matthew McConaughey, Anne Hathaway, Jessica Chastain, Bill Irwin, Ellen Burstyn, Matt Damon, and Michael Caine. ',\n",
              " 'Set in a dystopian future where humanity is embroiled in a catastrophic blight and famine, the film follows a group of astronauts who travel through a wormhole near Saturn in search of a new home for humankind.']"
            ]
          },
          "metadata": {},
          "execution_count": 49
        }
      ],
      "source": [
        "second_split = first_split.split(\"\\n\")\n",
        "second_split"
      ]
    },
    {
      "cell_type": "code",
      "execution_count": 50,
      "id": "903f5921",
      "metadata": {
        "colab": {
          "base_uri": "https://localhost:8080/"
        },
        "id": "903f5921",
        "outputId": "89f59914-0822-43a7-850b-b13d9d30a0f1"
      },
      "outputs": [
        {
          "output_type": "stream",
          "name": "stdout",
          "text": [
            "106\n",
            "121\n",
            "210\n"
          ]
        }
      ],
      "source": [
        "for split in second_split:\n",
        "    print(len(split))"
      ]
    },
    {
      "cell_type": "markdown",
      "id": "ed1e69a7",
      "metadata": {
        "id": "ed1e69a7"
      },
      "source": [
        "Third split exceeds chunk size 200. Now it will further try to split that using the third separator which is ' ' (space)"
      ]
    },
    {
      "cell_type": "code",
      "execution_count": 51,
      "id": "69f4da9d",
      "metadata": {
        "colab": {
          "base_uri": "https://localhost:8080/",
          "height": 70
        },
        "id": "69f4da9d",
        "outputId": "2199e071-80cb-4a96-e5a4-f2818e26e6b9"
      },
      "outputs": [
        {
          "output_type": "execute_result",
          "data": {
            "text/plain": [
              "'Set in a dystopian future where humanity is embroiled in a catastrophic blight and famine, the film follows a group of astronauts who travel through a wormhole near Saturn in search of a new home for humankind.'"
            ],
            "application/vnd.google.colaboratory.intrinsic+json": {
              "type": "string"
            }
          },
          "metadata": {},
          "execution_count": 51
        }
      ],
      "source": [
        "second_split[2]"
      ]
    },
    {
      "cell_type": "markdown",
      "id": "7fda659a",
      "metadata": {
        "id": "7fda659a"
      },
      "source": [
        "When you split this using space (i.e. second_split[2].split(\" \")), it will separate out each word and then it will merge those\n",
        "chunks such that their size is close to 200"
      ]
    }
  ],
  "metadata": {
    "kernelspec": {
      "display_name": "Python 3 (ipykernel)",
      "language": "python",
      "name": "python3"
    },
    "language_info": {
      "codemirror_mode": {
        "name": "ipython",
        "version": 3
      },
      "file_extension": ".py",
      "mimetype": "text/x-python",
      "name": "python",
      "nbconvert_exporter": "python",
      "pygments_lexer": "ipython3",
      "version": "3.10.11"
    },
    "colab": {
      "provenance": []
    }
  },
  "nbformat": 4,
  "nbformat_minor": 5
}